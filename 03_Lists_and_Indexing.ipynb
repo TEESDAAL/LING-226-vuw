{
 "cells": [
  {
   "cell_type": "markdown",
   "metadata": {
    "colab_type": "text",
    "id": "view-in-github"
   },
   "source": [
    "<a href=\"https://colab.research.google.com/github/scskalicky/LING-226-vuw/blob/main/03_Lists_and_Indexing.ipynb\" target=\"_parent\"><img src=\"https://colab.research.google.com/assets/colab-badge.svg\" alt=\"Open In Colab\"/></a>"
   ]
  },
  {
   "cell_type": "markdown",
   "metadata": {
    "id": "U6W7US11X54z"
   },
   "source": [
    "# Python `lists`\n",
    "\n",
    "Lists are another value type in Python. Lists can be thought of as a container for values, and more specifically as a giant bucket which almost anything can be tossed into. This means a list can contain a number of different values *and* values of different types, neat!\n",
    "\n",
    "The basic structure of a list is that a list is surrounded by square brackets `[]`, and values inside of a list are separated by commas.\n",
    "\n",
    "Run through the code cells to see lists with different combinations of values."
   ]
  },
  {
   "cell_type": "code",
   "execution_count": null,
   "metadata": {
    "id": "5WiFLsmwXBPC"
   },
   "outputs": [],
   "source": [
    "# a list of strings\n",
    "names = ['Jerry', 'George', 'Elaine', 'Kramer']\n",
    "\n",
    "# call the value of the variable\n",
    "names"
   ]
  },
  {
   "cell_type": "code",
   "execution_count": null,
   "metadata": {
    "id": "hmSzgZWFZ2rn"
   },
   "outputs": [],
   "source": [
    "# a list of numbers (integers)\n",
    "dates = [1982, 1986, 2008, 2012]\n",
    "dates"
   ]
  },
  {
   "cell_type": "code",
   "execution_count": null,
   "metadata": {
    "id": "EHZrcnQ_Z9E1"
   },
   "outputs": [],
   "source": [
    "# a list containing strings and an integer\n",
    "mixed_values = ['Jerry', '5A', 5]\n",
    "mixed_values"
   ]
  },
  {
   "cell_type": "code",
   "execution_count": null,
   "metadata": {
    "id": "UwTHHdSGaJwG"
   },
   "outputs": [],
   "source": [
    "# a list can even contain other lists,\n",
    "listception = [['Jerry', 'Elaine'], ['George', 'Kramer']]\n",
    "listception"
   ]
  },
  {
   "cell_type": "markdown",
   "metadata": {
    "id": "z5a_qXBhatzv"
   },
   "source": [
    "# List functions\n",
    "\n",
    "Just like strings, lists have their own built in functions (or methods). And, we can also use `len()` to count the length of a list.\n",
    "\n",
    "> - `len(list)` returns the length of the list (the number of values in a list)\n",
    "> - `list.sort()` sorts the list object\n",
    "> - `list.append()`adds a value to the end of a list\n",
    "\n",
    "*You can find a more complete list of list methods [here](https://www.geeksforgeeks.org/list-methods-in-python/)*"
   ]
  },
  {
   "cell_type": "code",
   "execution_count": null,
   "metadata": {
    "id": "D2HH3hxTcMWN"
   },
   "outputs": [],
   "source": [
    "# define a list\n",
    "quote = ['colorless', 'green', 'ideas', 'sleep', 'furiously']\n",
    "\n",
    "print(quote)"
   ]
  },
  {
   "cell_type": "code",
   "execution_count": null,
   "metadata": {
    "id": "N0a53xDDchvE"
   },
   "outputs": [],
   "source": [
    "# how many values in the list?\n",
    "len(quote)"
   ]
  },
  {
   "cell_type": "code",
   "execution_count": null,
   "metadata": {
    "id": "zErJY99dckY4"
   },
   "outputs": [],
   "source": [
    "# sort the list alphabetically\n",
    "# (note that this function will do more than return output - it will directly modify the list)\n",
    "quote.sort()\n",
    "quote"
   ]
  },
  {
   "cell_type": "code",
   "execution_count": null,
   "metadata": {
    "id": "0tl7IbbsdBzl"
   },
   "outputs": [],
   "source": [
    "# add something to the end of the list:\n",
    "quote.append('Chomsky')\n",
    "quote"
   ]
  },
  {
   "cell_type": "markdown",
   "metadata": {
    "id": "V-6YSxwZavx5"
   },
   "source": [
    "## **Your Turn**\n",
    "\n",
    "Create a list or two containing different values and of different types. Make sure to use the square brackets and to separate values in the list using commas.\n",
    "\n",
    "Then, play with `len()` and some other list functions in order to get a good sense of how to make them.\n",
    "\n"
   ]
  },
  {
   "cell_type": "code",
   "execution_count": null,
   "metadata": {
    "id": "qXQubXfGcWfE"
   },
   "outputs": [],
   "source": [
    "# make some lists here!\n"
   ]
  },
  {
   "cell_type": "markdown",
   "metadata": {
    "id": "uJ98iIIBfwXl"
   },
   "source": [
    "# Indexing strings and lists\n",
    "\n",
    "Strings and Lists are both sequences of values and are stored in a particular order. This allows us to access specific values at specific locations in these sequences. To do so, we use what is called **slicing** or **indexing**.\n",
    "\n"
   ]
  },
  {
   "cell_type": "markdown",
   "metadata": {
    "id": "OhWTcxMtktxP"
   },
   "source": [
    "## Indexing string characters\n",
    "The syntax for doing so uses square brackets, the same as are used to declare lists, so be careful! The difference is that index brackets are placed immediately after the value (or variable name mapped to a value), like this:\n",
    "\n",
    "> `value[]`\n",
    "\n",
    "In addition to placing the square brackets, you also need to indicate the numerical index you wish to inspect.\n",
    "\n",
    "In the example below, I ask for portions of a string sequence located at index 1:"
   ]
  },
  {
   "cell_type": "code",
   "execution_count": null,
   "metadata": {
    "id": "z4M026yYiRsK"
   },
   "outputs": [],
   "source": [
    "# index a string at location/index 1\n",
    "'Melodrama'[1]"
   ]
  },
  {
   "cell_type": "markdown",
   "metadata": {
    "id": "L6JykEk0i1W7"
   },
   "source": [
    "Why did we get \"e\" instead of \"M\"? The reason is that in Python, the starting point of a sequence is 0, not 1."
   ]
  },
  {
   "cell_type": "code",
   "execution_count": null,
   "metadata": {
    "id": "hjU1j5vDizc4"
   },
   "outputs": [],
   "source": [
    "'Melodrama'[0]"
   ]
  },
  {
   "cell_type": "markdown",
   "metadata": {
    "id": "LjcO2_iwjH-n"
   },
   "source": [
    "This means that the indexes sit before/after each character in a string, so that instead of being located at any one index, characters are located *between* indexes:\n",
    "\n",
    "|| | | | | | | | | | | | | | | | | | | |\n",
    "---|---|---|---|---|---|---|---|---|---|---|---|---|---|---|---|---|---|---|---|\n",
    "character||M||e||l||o||d||r||a||m||a\n",
    "index|     |0||1||2||3||4||5||6||7||8||9|\n",
    "\n",
    "\n",
    "When we slice a string using a single index, we are technically asking for the value which comes after that index. Also see section 8.4 [here](https://greenteapress.com/thinkpython2/html/thinkpython2009.html#sec95)\n",
    "\n"
   ]
  },
  {
   "cell_type": "markdown",
   "metadata": {
    "id": "DY5irWSCk1Qb"
   },
   "source": [
    "\n",
    "## Indexing a range of string characters\n",
    "\n",
    "To index a range of values from within a sequence, we can include more information inside the square brackets. Specifically, we can specify a `start` and a `stop`, which are separated by a colon:\n",
    "\n",
    "> `value[start:stop]`\n",
    "\n",
    "Just as if we were asking for a single index, asking for range will return everything *after* the start index and *before* the stop index. This means you will not get the value which comes after the stop index! Compare the table above with the output below:"
   ]
  },
  {
   "cell_type": "code",
   "execution_count": null,
   "metadata": {
    "id": "COIMIJAwlv13"
   },
   "outputs": [],
   "source": [
    "# use a start:stop\n",
    "'Melodrama'[1:6]"
   ]
  },
  {
   "cell_type": "markdown",
   "metadata": {
    "id": "z9XAy-VL21y9"
   },
   "source": [
    "You can leave the start or stop blank - doing so defaults to the start or end, depending on which value you leave blank:\n"
   ]
  },
  {
   "cell_type": "code",
   "execution_count": null,
   "metadata": {
    "id": "ncCdErQg20yf"
   },
   "outputs": [],
   "source": [
    "# The first half of melodrama\n",
    "'Melodrama'[:4]"
   ]
  },
  {
   "cell_type": "code",
   "execution_count": null,
   "metadata": {
    "id": "yWKYGrRQ3E5G"
   },
   "outputs": [],
   "source": [
    "# the second half\n",
    "'Melodrama'[4:]"
   ]
  },
  {
   "cell_type": "markdown",
   "metadata": {
    "id": "WamSThQy31pa"
   },
   "source": [
    "You can also use negatives to start from the *end* of a sequence - what is -1 indexing if it provides us with the final character?"
   ]
  },
  {
   "cell_type": "code",
   "execution_count": null,
   "metadata": {
    "id": "yVlguinD3xvA"
   },
   "outputs": [],
   "source": [
    "# index the last item\n",
    "'Melodrama'[-1]"
   ]
  },
  {
   "cell_type": "markdown",
   "metadata": {
    "id": "uOXlMYAX46I1"
   },
   "source": [
    "Why is this output the same as the previous example?"
   ]
  },
  {
   "cell_type": "code",
   "execution_count": null,
   "metadata": {
    "id": "239wJ4BG42iC"
   },
   "outputs": [],
   "source": [
    "\"Melodrama\"[-1:]"
   ]
  },
  {
   "cell_type": "markdown",
   "metadata": {
    "id": "JLZ2Yf8f2-yq"
   },
   "source": [
    "Perhaps starting at -2 makes this more clear? The index goes from -2 to the end of the string"
   ]
  },
  {
   "cell_type": "code",
   "execution_count": null,
   "metadata": {
    "id": "m53ZZCOA2xs4"
   },
   "outputs": [],
   "source": [
    "\"Melodrama\"[-2:]"
   ]
  },
  {
   "cell_type": "markdown",
   "metadata": {
    "id": "pSo9_MnT3DI0"
   },
   "source": [
    "Why don't we get the full word here? What is the start, and what is the stop?"
   ]
  },
  {
   "cell_type": "code",
   "execution_count": null,
   "metadata": {
    "id": "NuiW8oFH4UWw"
   },
   "outputs": [],
   "source": [
    "'Melodrama'[:-1]"
   ]
  },
  {
   "cell_type": "markdown",
   "metadata": {
    "id": "HUywr7iDmBQK"
   },
   "source": [
    "If you try to index a string at a location which does not exist, you will receive an \"out of range\" error:"
   ]
  },
  {
   "cell_type": "code",
   "execution_count": null,
   "metadata": {
    "id": "wdsO3YKp2vSC"
   },
   "outputs": [],
   "source": [
    "'Melodrama'[42]"
   ]
  },
  {
   "cell_type": "markdown",
   "metadata": {
    "id": "-kWMhV-14_KA"
   },
   "source": [
    "## Indexing single values from lists\n",
    "\n",
    "Once you understand how to slice/index strings, many of the same general principles apply to lists."
   ]
  },
  {
   "cell_type": "code",
   "execution_count": null,
   "metadata": {
    "id": "X0hLiYgU5NIN"
   },
   "outputs": [],
   "source": [
    "# create a list\n",
    "birbs = ['kiwi', 'kākā', 'tūī', 'kea', 'pīwauwau']"
   ]
  },
  {
   "cell_type": "code",
   "execution_count": null,
   "metadata": {
    "id": "LHqwd3tm5-Ke"
   },
   "outputs": [],
   "source": [
    "# find the first bird\n",
    "birbs[0]"
   ]
  },
  {
   "cell_type": "code",
   "execution_count": null,
   "metadata": {
    "id": "fnBsG4Aj6FTA"
   },
   "outputs": [],
   "source": [
    "# who won bird of the year in 2022?\n",
    "birbs[-1]"
   ]
  },
  {
   "cell_type": "markdown",
   "metadata": {
    "id": "TBmpNkZIKhSk"
   },
   "source": [
    "## Indexing ranges of values from lists\n",
    "\n",
    "The same principles apply to lists for ranged slices as well\n"
   ]
  },
  {
   "cell_type": "code",
   "execution_count": null,
   "metadata": {
    "id": "-kMvfFpWKlxq"
   },
   "outputs": [],
   "source": [
    "# give everything up until index 2\n",
    "birbs[:2]"
   ]
  },
  {
   "cell_type": "code",
   "execution_count": null,
   "metadata": {
    "id": "R_w791V1KoJB"
   },
   "outputs": [],
   "source": [
    "# give the second half of the list\n",
    "birbs[2:6]"
   ]
  },
  {
   "cell_type": "markdown",
   "metadata": {
    "id": "hZyfAVcSs7kE"
   },
   "source": [
    "# **Your Turn**\n",
    "\n",
    "- create some strings and lists, and practice indexing them"
   ]
  }
 ],
 "metadata": {
  "colab": {
   "authorship_tag": "ABX9TyPvr2gfTVc4SwraOUWLAssQ",
   "include_colab_link": true,
   "private_outputs": true,
   "provenance": []
  },
  "kernelspec": {
   "display_name": "Python 3 (ipykernel)",
   "language": "python",
   "name": "python3"
  },
  "language_info": {
   "codemirror_mode": {
    "name": "ipython",
    "version": 3
   },
   "file_extension": ".py",
   "mimetype": "text/x-python",
   "name": "python",
   "nbconvert_exporter": "python",
   "pygments_lexer": "ipython3",
   "version": "3.11.5"
  }
 },
 "nbformat": 4,
 "nbformat_minor": 4
}
