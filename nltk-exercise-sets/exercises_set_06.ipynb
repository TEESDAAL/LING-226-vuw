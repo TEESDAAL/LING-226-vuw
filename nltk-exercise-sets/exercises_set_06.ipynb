{
  "nbformat": 4,
  "nbformat_minor": 0,
  "metadata": {
    "colab": {
      "private_outputs": true,
      "provenance": [],
      "include_colab_link": true
    },
    "kernelspec": {
      "name": "python3",
      "display_name": "Python 3"
    },
    "language_info": {
      "name": "python"
    }
  },
  "cells": [
    {
      "cell_type": "markdown",
      "metadata": {
        "id": "view-in-github",
        "colab_type": "text"
      },
      "source": [
        "<a href=\"https://colab.research.google.com/github/scskalicky/LING-226-vuw/blob/main/nltk-exercise-sets/exercises_set_06.ipynb\" target=\"_parent\"><img src=\"https://colab.research.google.com/assets/colab-badge.svg\" alt=\"Open In Colab\"/></a>"
      ]
    },
    {
      "cell_type": "markdown",
      "metadata": {
        "id": "pJQxEZG_2AA_"
      },
      "source": [
        "# **Exercise set 06**"
      ]
    },
    {
      "cell_type": "code",
      "metadata": {
        "id": "0SnBrKb0cOlP"
      },
      "source": [
        "import nltk\n",
        "nltk.download('book')\n",
        "from nltk.corpus import wordnet as wn"
      ],
      "execution_count": null,
      "outputs": []
    },
    {
      "cell_type": "markdown",
      "metadata": {
        "id": "yw3e6cx0AC7Z"
      },
      "source": [
        "5. ☼ Investigate the holonym-meronym relations for some nouns. Remember that there are three kinds of holonym-meronym relation, so you need to use: `member_meronyms()`, `part_meronyms()`, `substance_meronyms()`, `member_holonyms()`, `part_holonyms()`, and `substance_holonyms()`.\n",
        "\n"
      ]
    },
    {
      "cell_type": "code",
      "metadata": {
        "id": "JaobZo6HHVGI"
      },
      "source": [
        "# your answer here"
      ],
      "execution_count": null,
      "outputs": []
    },
    {
      "cell_type": "markdown",
      "metadata": {
        "id": "SNt6WAiSFDs1"
      },
      "source": [
        "8. ◑ Define a conditional frequency distribution over the Names corpus that allows you to see which initial letters are more frequent for males vs. females (cf. 4.4).\n"
      ]
    },
    {
      "cell_type": "code",
      "metadata": {
        "id": "UPMZng-PHX4C"
      },
      "source": [
        "# your answer here"
      ],
      "execution_count": null,
      "outputs": []
    },
    {
      "cell_type": "markdown",
      "metadata": {
        "id": "yx53xx8IFyU5"
      },
      "source": [
        "12. ◑ The CMU Pronouncing Dictionary contains multiple pronunciations for certain words. How many distinct words does it contain? What fraction of words in this dictionary have more than one possible pronunciation?\n"
      ]
    },
    {
      "cell_type": "code",
      "metadata": {
        "id": "92I243aVHYx0"
      },
      "source": [
        "# your answer here"
      ],
      "execution_count": null,
      "outputs": []
    },
    {
      "cell_type": "markdown",
      "metadata": {
        "id": "-kIOAVOcGVyS"
      },
      "source": [
        "13. ◑ What percentage of noun synsets have no hyponyms? You can get all noun synsets using `wn.all_synsets('n')`.\n",
        "\n",
        "Note: `wn.all_synsets` returns a generator, so you might want to wrap it in `list()`\n"
      ]
    },
    {
      "cell_type": "code",
      "metadata": {
        "id": "Aw6zarE0esx6"
      },
      "source": [
        "# your answer here"
      ],
      "execution_count": null,
      "outputs": []
    },
    {
      "cell_type": "markdown",
      "metadata": {
        "id": "hmke0GNsKOZS"
      },
      "source": [
        "14. ◑ Define a function supergloss(s) that takes a synset s as its argument and returns a string consisting of the concatenation of the definition of s, and the definitions of all the hypernyms and hyponyms of s.\n"
      ]
    },
    {
      "cell_type": "code",
      "metadata": {
        "id": "_s4leTIGHlLA"
      },
      "source": [
        "# your answer here"
      ],
      "execution_count": null,
      "outputs": []
    },
    {
      "cell_type": "markdown",
      "metadata": {
        "id": "XXi7kYQqO2EZ"
      },
      "source": [
        "17. ◑ Write a function that finds the 50 most frequently occurring words of a text that are not stopwords.\n"
      ]
    },
    {
      "cell_type": "code",
      "metadata": {
        "id": "intbCutKHlvs"
      },
      "source": [
        "# your answer here"
      ],
      "execution_count": null,
      "outputs": []
    },
    {
      "cell_type": "markdown",
      "metadata": {
        "id": "jXi-fX4ER9uy"
      },
      "source": [
        "18. ◑ Write a program to print the 50 most frequent bigrams (pairs of adjacent words) of a text, omitting bigrams that contain stopwords.\n",
        "\n",
        "Note: Use the `bigrams()` function. \n"
      ]
    },
    {
      "cell_type": "code",
      "metadata": {
        "id": "NcEFq6tAIE-w"
      },
      "source": [
        "# your answer here"
      ],
      "execution_count": null,
      "outputs": []
    },
    {
      "cell_type": "markdown",
      "metadata": {
        "id": "7ZHjF6LUiZAQ"
      },
      "source": [
        "21. ◑ Write a program to guess the number of syllables contained in a text, making use of the CMU Pronouncing Dictionary.\n",
        "\n",
        "*Note: first figure out which CMU pronunciation codes can represent syllables.* "
      ]
    },
    {
      "cell_type": "code",
      "metadata": {
        "id": "xD9SCnAjIFVe"
      },
      "source": [
        "# your answer here"
      ],
      "execution_count": null,
      "outputs": []
    },
    {
      "cell_type": "markdown",
      "metadata": {
        "id": "5fZl3VWivHAP"
      },
      "source": [
        "22. ◑ Define a function `hedge(text)` which processes a text and produces a new version with the word 'like' between every third word.\n",
        "\n",
        "*Note. Modulus might be helpful here.* \n"
      ]
    },
    {
      "cell_type": "code",
      "metadata": {
        "id": "7CHaHxYxIJjw"
      },
      "source": [
        "# your answer here"
      ],
      "execution_count": null,
      "outputs": []
    },
    {
      "cell_type": "markdown",
      "metadata": {
        "id": "CwO5gN3VWAIC"
      },
      "source": [
        "27. ★ The polysemy of a word is the number of senses it has. Using WordNet, we can determine that the noun dog has 7 senses with: `len(wn.synsets('dog', 'n'))`. Compute the average polysemy of nouns, verbs, adjectives and adverbs according to WordNet.\n",
        "\n",
        "Note: `n` == noun, `v` == verb, `a` == adjective, `r` == adverb. \n",
        "It's a lot easier to make a function which does this than doing each one at a time. "
      ]
    },
    {
      "cell_type": "code",
      "metadata": {
        "id": "h0WP8AfHIYZM"
      },
      "source": [
        "# your answer here"
      ],
      "execution_count": null,
      "outputs": []
    }
  ]
}
