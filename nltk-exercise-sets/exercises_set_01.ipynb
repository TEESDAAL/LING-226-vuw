{
  "nbformat": 4,
  "nbformat_minor": 0,
  "metadata": {
    "colab": {
      "private_outputs": true,
      "provenance": [],
      "include_colab_link": true
    },
    "kernelspec": {
      "name": "python3",
      "display_name": "Python 3"
    },
    "language_info": {
      "name": "python"
    }
  },
  "cells": [
    {
      "cell_type": "markdown",
      "metadata": {
        "id": "view-in-github",
        "colab_type": "text"
      },
      "source": [
        "<a href=\"https://colab.research.google.com/github/scskalicky/LING-226-vuw/blob/main/nltk-exercise-sets/exercises_set_01.ipynb\" target=\"_parent\"><img src=\"https://colab.research.google.com/assets/colab-badge.svg\" alt=\"Open In Colab\"/></a>"
      ]
    },
    {
      "cell_type": "markdown",
      "metadata": {
        "id": "bYyZIWMrXD10"
      },
      "source": [
        "## Exercise set 1\n",
        "\n",
        "These are from the end of NLTK Chapter 1. "
      ]
    },
    {
      "cell_type": "code",
      "metadata": {
        "id": "aycnAyW1KIi3"
      },
      "source": [
        "import nltk\n",
        "nltk.download('book')\n",
        "from nltk.book import *"
      ],
      "execution_count": null,
      "outputs": []
    },
    {
      "cell_type": "markdown",
      "metadata": {
        "id": "K0RxgHOIU76e"
      },
      "source": [
        "☼ 5. Compare the lexical diversity scores for humor and romance fiction in 1.1. Which genre is more lexically diverse?\n",
        "\n",
        "\n",
        "Table 1.1:\n",
        "```\n",
        "Lexical Diversity of Various Genres in the Brown Corpus\n",
        "\n",
        "Genre\t            Tokens\tTypes\tLexical diversity\n",
        "skill and hobbies\t82345\t11935\t0.145\n",
        "humor\t            21695\t5017\t0.231\n",
        "fiction: science\t14470\t3233\t0.223\n",
        "press: reportage\t100554\t14394\t0.143\n",
        "fiction: romance\t70022\t8452\t0.121\n",
        "religion\t        39399\t6373\t0.162\n",
        "```\n"
      ]
    },
    {
      "cell_type": "code",
      "metadata": {
        "id": "6ceZf_hQU7PD"
      },
      "source": [
        "# Type your answer here"
      ],
      "execution_count": null,
      "outputs": []
    },
    {
      "cell_type": "markdown",
      "metadata": {
        "id": "MhtuO0-QVFdP"
      },
      "source": [
        "☼ 6. Find the collocations in `text5`.\n",
        "\n"
      ]
    },
    {
      "cell_type": "code",
      "metadata": {
        "id": "5yuUhVS2VGy3"
      },
      "source": [
        "# Your code here\n"
      ],
      "execution_count": null,
      "outputs": []
    },
    {
      "cell_type": "markdown",
      "metadata": {
        "id": "CFMimMTJVOvp"
      },
      "source": [
        "☼ 10. Define a variable `my_sent` to be a list of words, using the syntax `my_sent = [\"My\", \"sent\"]` (but with your own words, or a favorite saying).\n",
        "\n",
        "Use `' '.join(my_sent)` to convert this into a string.\n",
        "Use `split()` to split the string back into the list form you had to start with."
      ]
    },
    {
      "cell_type": "code",
      "metadata": {
        "id": "Uv0wUs3uVQ-m"
      },
      "source": [
        "# Your code here\n",
        "\n"
      ],
      "execution_count": null,
      "outputs": []
    },
    {
      "cell_type": "markdown",
      "metadata": {
        "id": "JHNwD4UsVXQ8"
      },
      "source": [
        "☼ 12. Consider the following two expressions, which have the same value. Which one will typically be more relevant in NLP? Why?\n",
        "```\n",
        "\"Monty Python\"[6:12]\n",
        "[\"Monty\", \"Python\"][1]\n",
        "```"
      ]
    },
    {
      "cell_type": "code",
      "metadata": {
        "id": "apVjzNl2VlgD"
      },
      "source": [
        "# Your typed answer here\n",
        "\n"
      ],
      "execution_count": null,
      "outputs": []
    },
    {
      "cell_type": "markdown",
      "metadata": {
        "id": "6V3rxF15Vgdl"
      },
      "source": [
        "☼ 13. We have seen how to represent a sentence as a list of words, where each word is a sequence of characters. What does `sent1[2][2]` do? Why? Experiment with other index values.\n",
        "\n"
      ]
    },
    {
      "cell_type": "code",
      "metadata": {
        "id": "BpllYR0iVi6x"
      },
      "source": [
        "# Your code here\n",
        "\n",
        "\n",
        "# Your typed answer here"
      ],
      "execution_count": null,
      "outputs": []
    },
    {
      "cell_type": "markdown",
      "metadata": {
        "id": "EUZZ7oM6WFk6"
      },
      "source": [
        "◑ 17. Use `text9.index()` to find the index of the word `sunset`. You'll need to insert this word as an argument between the parentheses. By a process of trial and error, find the slice for the complete sentence that contains this word.\n",
        "\n"
      ]
    },
    {
      "cell_type": "code",
      "metadata": {
        "id": "vwP9VRpZWHaH"
      },
      "source": [
        "# Your code here"
      ],
      "execution_count": null,
      "outputs": []
    },
    {
      "cell_type": "markdown",
      "metadata": {
        "id": "-d4rMZbhWZGS"
      },
      "source": [
        "◑ 19. What is the difference between the following two lines? Which one will give a larger value? Will this be the case for other texts?\n",
        "\n",
        " \t\n",
        "`sorted(set(w.lower() for w in text1))` \n",
        "\n",
        "`sorted(w.lower() for w in set(text1))`"
      ]
    },
    {
      "cell_type": "code",
      "metadata": {
        "id": "YsjJuI74WcRb"
      },
      "source": [
        "# Your code here\n",
        "\n",
        "\n",
        "# Your answer here"
      ],
      "execution_count": null,
      "outputs": []
    },
    {
      "cell_type": "markdown",
      "metadata": {
        "id": "lmiahw41WkWd"
      },
      "source": [
        "◑ 22. Find all the four-letter words in the Chat Corpus (`text5`). With the help of a frequency distribution (`FreqDist`), show these words in decreasing order of frequency.\n",
        "\n"
      ]
    },
    {
      "cell_type": "code",
      "metadata": {
        "id": "pRU50wu8Wltf"
      },
      "source": [
        "# Your code here (hint, use sorted with reverse = True)"
      ],
      "execution_count": null,
      "outputs": []
    },
    {
      "cell_type": "markdown",
      "metadata": {
        "id": "JZh_a0JjWw_s"
      },
      "source": [
        "◑ 23. Review the discussion of looping with conditions in 4. Use a combination of `for` and `if` statements to loop over the words of the movie script for Monty Python and the Holy Grail (`text6`) and print all the uppercase words, one per line.\n",
        "\n"
      ]
    },
    {
      "cell_type": "code",
      "metadata": {
        "id": "6rBt-zhIW17C"
      },
      "source": [
        "# Your code here"
      ],
      "execution_count": null,
      "outputs": []
    },
    {
      "cell_type": "markdown",
      "metadata": {
        "id": "n26euVANXBNq"
      },
      "source": [
        "◑ 24. Write expressions for finding all words in text6 that meet the conditions listed below. The result should be in the form of a list of words: `['word1', 'word2', ...].`\n",
        "\n",
        "- Ending in ise\n",
        "- Containing the letter z\n",
        "- Containing the sequence of letters pt\n",
        "- Having all lowercase letters except for an initial capital (i.e., titlecase)"
      ]
    },
    {
      "cell_type": "code",
      "metadata": {
        "id": "EpIEw5LIXCE1"
      },
      "source": [
        "# Your code here"
      ],
      "execution_count": null,
      "outputs": []
    }
  ]
}
