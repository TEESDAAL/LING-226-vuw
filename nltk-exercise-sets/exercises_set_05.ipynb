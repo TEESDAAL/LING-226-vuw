{
  "nbformat": 4,
  "nbformat_minor": 0,
  "metadata": {
    "colab": {
      "private_outputs": true,
      "provenance": [],
      "include_colab_link": true
    },
    "kernelspec": {
      "name": "python3",
      "display_name": "Python 3"
    },
    "language_info": {
      "name": "python"
    }
  },
  "cells": [
    {
      "cell_type": "markdown",
      "metadata": {
        "id": "view-in-github",
        "colab_type": "text"
      },
      "source": [
        "<a href=\"https://colab.research.google.com/github/scskalicky/LING-226-vuw/blob/main/nltk-exercise-sets/exercises_set_05.ipynb\" target=\"_parent\"><img src=\"https://colab.research.google.com/assets/colab-badge.svg\" alt=\"Open In Colab\"/></a>"
      ]
    },
    {
      "cell_type": "markdown",
      "metadata": {
        "id": "-Kb8uT8UV-V-"
      },
      "source": [
        "# Exercise set 05"
      ]
    },
    {
      "cell_type": "code",
      "metadata": {
        "id": "Zrbjuen42OPj"
      },
      "source": [
        "import nltk\n",
        "nltk.download(['punkt', 'book', 'averaged_perceptron_tagger'])"
      ],
      "execution_count": null,
      "outputs": []
    },
    {
      "cell_type": "markdown",
      "metadata": {
        "id": "hjslY2yHmCJ0"
      },
      "source": [
        "1. ☼ Search the web for \"spoof newspaper headlines\", to find such gems as: British Left Waffles on Falkland Islands, and Juvenile Court to Try Shooting Defendant. Manually tag these headlines to see if knowledge of the part-of-speech tags removes the ambiguity.\n",
        "\n",
        "NOTE: Here are two websites I found with some examples: [one](https://www.departments.bucknell.edu/linguistics/synhead.html), [two](http://www.fun-with-words.com/ambiguous_headlines.html).\n",
        "\n",
        "Use the `nltk.tag.str2tuple` method for making these tags. "
      ]
    },
    {
      "cell_type": "code",
      "metadata": {
        "id": "2TUrptlDe1o4"
      },
      "source": [
        "# your answer here"
      ],
      "execution_count": null,
      "outputs": []
    },
    {
      "cell_type": "markdown",
      "metadata": {
        "id": "61h5bPBQ2Sxe"
      },
      "source": [
        "3. ☼ Tokenize and tag the following sentence: `They wind back the clock, while we chase after the wind`. What different pronunciations and parts of speech are involved?\n",
        "\n",
        "*Hint: the easy thing to do here would be to use the built-in word_tokenize and pos_tag functions.*\n"
      ]
    },
    {
      "cell_type": "code",
      "metadata": {
        "id": "IJa66_M7e36Y"
      },
      "source": [
        "# your answer here"
      ],
      "execution_count": null,
      "outputs": []
    },
    {
      "cell_type": "markdown",
      "metadata": {
        "id": "PVdvdnC12TsT"
      },
      "source": [
        "11. ☼ Learn about the affix tagger (type `help(nltk.AffixTagger)`). Train an affix tagger and run it on some new text. Experiment with different settings for the affix length and the minimum word length. Discuss your findings.\n",
        "\n",
        "\n",
        "NOTE: You will need to provide a dictionary of mappings as a model to the affix tagger. Then play with the `affix_length` and `min_stem_length` arguments.\n",
        "\n",
        "Make sure to run it on suffixes as well by using negative values for `affix_length`"
      ]
    },
    {
      "cell_type": "code",
      "metadata": {
        "id": "mM8ikkBIe4cX"
      },
      "source": [
        "# your answer here"
      ],
      "execution_count": null,
      "outputs": []
    },
    {
      "cell_type": "markdown",
      "metadata": {
        "id": "nN58DNt54SfM"
      },
      "source": [
        "12. ☼ Train a bigram tagger with no backoff tagger, and run it on some of the training data. Next, run it on some new data. What happens to the performance of the tagger? Why?\n",
        "\n",
        "NOTE: You will need some tagged data to do this. Brown is probably the easier one. Try training on one genre and apply it to another. Train something on `tagged_sents` from one genre and apply it to `tagged_sents` in another. \n"
      ]
    },
    {
      "cell_type": "code",
      "metadata": {
        "id": "InOHqLONe4rN"
      },
      "source": [
        "# your answer here"
      ],
      "execution_count": null,
      "outputs": []
    },
    {
      "cell_type": "markdown",
      "metadata": {
        "id": "DB1NJO7J49_s"
      },
      "source": [
        "20. ◑ Write code to search the Brown Corpus for particular words and phrases according to tags, to answer the following questions:\n",
        "- Produce an alphabetically sorted list of the distinct words tagged as `MD`.\n",
        "- Identify words that can be plural nouns or third person singular verbs (e.g. deals, flies).\n",
        "- Identify three-word prepositional phrases of the form IN + DET + NN (eg. in the lab).\n",
        "  - hint: use the example from the chapter looping through trigrams.\n",
        "- What is the ratio of masculine to feminine pronouns?\n",
        "  - Note: not sure if you really need to use tags for this, but try!\n",
        "\n",
        "[LIST OF BROWN TAGS](http://korpus.uib.no/icame/brown/bcm.html#bc5)"
      ]
    },
    {
      "cell_type": "code",
      "metadata": {
        "id": "Sh8pXAXNe5Fk"
      },
      "source": [
        "# your answer here"
      ],
      "execution_count": null,
      "outputs": []
    }
  ]
}
