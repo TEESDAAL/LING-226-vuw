{
  "nbformat": 4,
  "nbformat_minor": 0,
  "metadata": {
    "colab": {
      "private_outputs": true,
      "provenance": [],
      "toc_visible": true,
      "include_colab_link": true
    },
    "kernelspec": {
      "name": "python3",
      "display_name": "Python 3"
    },
    "language_info": {
      "name": "python"
    }
  },
  "cells": [
    {
      "cell_type": "markdown",
      "metadata": {
        "id": "view-in-github",
        "colab_type": "text"
      },
      "source": [
        "<a href=\"https://colab.research.google.com/github/scskalicky/LING-226-vuw/blob/main/nltk-exercise-sets/exercises_set_03_solutions.ipynb\" target=\"_parent\"><img src=\"https://colab.research.google.com/assets/colab-badge.svg\" alt=\"Open In Colab\"/></a>"
      ]
    },
    {
      "cell_type": "markdown",
      "metadata": {
        "id": "jDQx_oELnJb-"
      },
      "source": [
        "# Exercise set 03\n",
        "\n",
        "Exercises here cover sections 3.1 to 3.6 from Chapter 03\n"
      ]
    },
    {
      "cell_type": "code",
      "metadata": {
        "id": "eA13Lo--WwmA"
      },
      "source": [
        "import nltk, re\n",
        "nltk.download('book')\n",
        "from nltk.corpus import brown"
      ],
      "execution_count": null,
      "outputs": []
    },
    {
      "cell_type": "markdown",
      "metadata": {
        "id": "WXrlB8csr5CI"
      },
      "source": [
        "7. ☼ Write regular expressions to match the following classes of strings:\n",
        "\n",
        "- A single determiner (assume that a, an, and the are the only determiners).\n",
        "\n",
        "- An arithmetic expression using integers, addition, and multiplication, such as 2*3+8."
      ]
    },
    {
      "cell_type": "code",
      "metadata": {
        "id": "OeoDsBh9pALt"
      },
      "source": [
        "single_determiner = r'\\ban\\b|\\ba\\b|\\bthe\\b'\n",
        "\n",
        "re.findall(single_determiner, 'the a an aa thee')"
      ],
      "execution_count": null,
      "outputs": []
    },
    {
      "cell_type": "code",
      "metadata": {
        "id": "B0qMzyc2o8I0"
      },
      "source": [
        "# need to make it a non capture group I think\n",
        "math_expression = r'\\d+(?:[\\*\\+]\\d+)+'\n",
        "\n",
        "#re.findall(math_expression, '2*3+8')\n",
        "re.findall(math_expression, '20000000*3923485234+8444+2*3+8')"
      ],
      "execution_count": null,
      "outputs": []
    },
    {
      "cell_type": "markdown",
      "metadata": {
        "id": "drxXLXCkEfGT"
      },
      "source": [
        "18. ◑ Read in some text from a corpus, tokenize it, and print the list of all wh-word types that occur. (wh-words in English are used in questions, relative clauses and exclamations: who, which, what, and so on.) Print them in order. Are any words duplicated in this list, because of the presence of case distinctions or punctuation?\n",
        "\n",
        "**Note:** The first code cells prepares brown for you\n",
        "\n"
      ]
    },
    {
      "cell_type": "code",
      "metadata": {
        "id": "B2LtxyzbEg9p"
      },
      "source": [
        "# read in text from brown \n",
        "from nltk.corpus import brown\n",
        "\n",
        "brown_words = nltk.Text(brown.words(categories = 'news'))"
      ],
      "execution_count": null,
      "outputs": []
    },
    {
      "cell_type": "code",
      "metadata": {
        "id": "1ml-TOsiEzbE"
      },
      "source": [
        "# need a disjunction to make this work. \n",
        "for w in brown_words:\n",
        "  if re.search(r\"\\b[Ww]h(o|at|en|ere|ich)\\b\", w):\n",
        "    print(w)"
      ],
      "execution_count": null,
      "outputs": []
    },
    {
      "cell_type": "markdown",
      "metadata": {
        "id": "aPNdPs6LGmh6"
      },
      "source": [
        "19. ◑ Create a file consisting of words and (made up) frequencies, where each line consists of a word, the space character, and a positive integer, e.g. `fuzzy 53`. Read the file into a Python list using `open(filename).readlines()`. Next, break each line into its two fields using `split()`, and convert the number into an integer using `int()`. The result should be a list of the form: `[['fuzzy', 53], ...]`.\n",
        "\n"
      ]
    },
    {
      "cell_type": "code",
      "metadata": {
        "id": "xs4d1crLGncp"
      },
      "source": [
        "fake_freq = open('/content/drive/MyDrive/texts/fake_freq.txt', 'r').readlines()\n",
        "fake_freq"
      ],
      "execution_count": null,
      "outputs": []
    },
    {
      "cell_type": "code",
      "metadata": {
        "id": "qz3L-ZKhHSix"
      },
      "source": [
        "# just have to be careful about bracketing, like always. \n",
        "[[w.split()[0], int(w.split()[1])] for w in fake_freq]"
      ],
      "execution_count": null,
      "outputs": []
    },
    {
      "cell_type": "markdown",
      "metadata": {
        "id": "4aBSbaNUDvn4"
      },
      "source": [
        "24. ◑ Try to write code to convert text into `hAck3r`, using regular expressions and substitution, where `e → 3, i → 1, o → 0, l → |, s → 5, . → 5w33t!, ate → 8`. Normalize the text to lowercase before converting it. Add more substitutions of your own. Now try to map s to two different values: $ for word-initial s, and 5 for word-internal s.\n",
        "\n"
      ]
    },
    {
      "cell_type": "code",
      "metadata": {
        "id": "ONC9MOl2DwpF"
      },
      "source": [
        "# i really wanted to loop the re.sub but this workds as well, \n",
        "def hacker(input):\n",
        "  lowered = input.lower()\n",
        "  hacked = re.sub(r'e', '3', lowered)\n",
        "  hacked = re.sub(r'i', 'l', hacked)\n",
        "  hacked = re.sub(r'o', '0', hacked)\n",
        "  hacked = re.sub(r'l', '|', hacked)\n",
        "  hacked = re.sub(r'\\bs', '$', hacked)\n",
        "  hacked = re.sub(r'\\Bs\\B', '5', hacked)\n",
        "  hacked = re.sub(r'\\.', '5sw33t!', hacked)\n",
        "  hacked = re.sub(r'ate', '8', hacked)\n",
        "  return hacked\n"
      ],
      "execution_count": null,
      "outputs": []
    },
    {
      "cell_type": "code",
      "metadata": {
        "id": "9iKddpvTFqef"
      },
      "source": [
        "hacker(\"Ardern said domestic travel is being looked at separately from the framework to be announced Friday, and work is being down to see if there is a way to safely allow movement.\")"
      ],
      "execution_count": null,
      "outputs": []
    },
    {
      "cell_type": "markdown",
      "metadata": {
        "id": "RD6q57GsJair"
      },
      "source": [
        "25. ◑ Pig Latin is a simple transformation of English text. Each word of the text is converted as follows: move any consonant (or consonant cluster) that appears at the start of the word to the end, then append ay, e.g. string → ingstray, idle → idleay. http://en.wikipedia.org/wiki/Pig_Latin\n",
        "\n",
        "> a. Write a function to convert a word to Pig Latin. \\\n",
        "> b. Write code that converts text, instead of individual words. \\\n",
        "> c. Extend it further to preserve capitalization, to keep qu together (i.e. so that quiet becomes ietquay), and to detect when y is used as a consonant (e.g. yellow) vs a vowel (e.g. style)."
      ]
    },
    {
      "cell_type": "code",
      "metadata": {
        "id": "MZtUv5qGJbv-"
      },
      "source": [
        "def pig_latin(word):\n",
        "  \n",
        "  cc = re.findall(r'^[^aeiouAEIOU]*', word)[0]\n",
        "  body = re.findall(r'\\b[^aeiouAEIOUyY]*(\\w+[!\\.\\'\\\"]*)', word)[0]\n",
        "  print(cc, body)\n",
        "  \n",
        "  # if the word starts with a Q\n",
        "  if cc == 'q' or cc == \"Q\":\n",
        "    if body[0] == 'u' or body[0] == 'U':\n",
        "      cc = cc + 'u'\n",
        "      body = body[1:]\n",
        "\n",
        "  # if the word starts with a 'y'\n",
        "  if cc == 'y' or cc == 'Y':\n",
        "    body = body[1:]\n",
        "\n",
        "  # if the word starts with vowel\n",
        "  if cc == '':\n",
        "    output = body + 'yay'\n",
        "  else:\n",
        "    output = body + cc + 'ay'\n",
        " \n",
        "  return output\n"
      ],
      "execution_count": null,
      "outputs": []
    },
    {
      "cell_type": "code",
      "metadata": {
        "id": "zQ0nK3B1J7i-"
      },
      "source": [
        "pig_latin('aaron')"
      ],
      "execution_count": null,
      "outputs": []
    },
    {
      "cell_type": "code",
      "metadata": {
        "id": "qD6M05s2NREY"
      },
      "source": [
        "# breaks with punctuation\n",
        "def pig_latin_text(text):\n",
        "  text1 = nltk.word_tokenize(text)\n",
        "  output = [pig_latin(w) for w in text1]\n",
        "  return(' '.join(output))"
      ],
      "execution_count": null,
      "outputs": []
    },
    {
      "cell_type": "code",
      "metadata": {
        "id": "HXuwy1IONpUH"
      },
      "source": [
        "pig_latin_text('style yellow knight incredible Qi quiet')"
      ],
      "execution_count": null,
      "outputs": []
    }
  ]
}
