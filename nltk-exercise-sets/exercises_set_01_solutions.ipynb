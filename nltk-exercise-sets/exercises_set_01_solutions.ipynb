{
  "nbformat": 4,
  "nbformat_minor": 0,
  "metadata": {
    "colab": {
      "private_outputs": true,
      "provenance": [],
      "toc_visible": true,
      "include_colab_link": true
    },
    "kernelspec": {
      "name": "python3",
      "display_name": "Python 3"
    },
    "language_info": {
      "name": "python"
    }
  },
  "cells": [
    {
      "cell_type": "markdown",
      "metadata": {
        "id": "view-in-github",
        "colab_type": "text"
      },
      "source": [
        "<a href=\"https://colab.research.google.com/github/scskalicky/LING-226-vuw/blob/main/nltk-exercise-sets/exercises_set_01_solutions.ipynb\" target=\"_parent\"><img src=\"https://colab.research.google.com/assets/colab-badge.svg\" alt=\"Open In Colab\"/></a>"
      ]
    },
    {
      "cell_type": "markdown",
      "metadata": {
        "id": "ex6kUJfeAXhQ"
      },
      "source": [
        "# Exercise set 01 solutions\n"
      ]
    },
    {
      "cell_type": "code",
      "metadata": {
        "id": "aycnAyW1KIi3"
      },
      "source": [
        "import nltk\n",
        "nltk.download('book')\n",
        "from nltk.book import *"
      ],
      "execution_count": null,
      "outputs": []
    },
    {
      "cell_type": "markdown",
      "metadata": {
        "id": "K0RxgHOIU76e"
      },
      "source": [
        "☼ 5. Compare the lexical diversity scores for humor and romance fiction in 1.1. Which genre is more lexically diverse?\n"
      ]
    },
    {
      "cell_type": "code",
      "metadata": {
        "id": "6ceZf_hQU7PD"
      },
      "source": [
        "# Humour and fiction is more diverse because it has a higher TTR"
      ],
      "execution_count": null,
      "outputs": []
    },
    {
      "cell_type": "markdown",
      "metadata": {
        "id": "MhtuO0-QVFdP"
      },
      "source": [
        "☼ 6. Find the collocations in `text5`.\n",
        "\n"
      ]
    },
    {
      "cell_type": "code",
      "metadata": {
        "id": "5yuUhVS2VGy3"
      },
      "source": [
        "# Your code here\n",
        "text5.collocations()"
      ],
      "execution_count": null,
      "outputs": []
    },
    {
      "cell_type": "markdown",
      "metadata": {
        "id": "CFMimMTJVOvp"
      },
      "source": [
        "☼ 10. Define a variable `my_sent` to be a list of words, using the syntax `my_sent = [\"My\", \"sent\"]` (but with your own words, or a favorite saying).\n",
        "\n",
        "Use `' '.join(my_sent)` to convert this into a string.\n",
        "Use `split()` to split the string back into the list form you had to start with."
      ]
    },
    {
      "cell_type": "code",
      "metadata": {
        "id": "Uv0wUs3uVQ-m"
      },
      "source": [
        "# Your code here\n",
        "\n",
        "my_sent = ['Soda', 'and', 'Diet', 'chased', 'a', 'rabbit.']\n",
        "\n",
        "my_sent2 = ' '.join(my_sent)\n",
        "\n",
        "print(my_sent2)\n",
        "\n",
        "my_sent3 = my_sent2.split()\n",
        "\n",
        "print(my_sent3)"
      ],
      "execution_count": null,
      "outputs": []
    },
    {
      "cell_type": "markdown",
      "metadata": {
        "id": "JHNwD4UsVXQ8"
      },
      "source": [
        "☼ 12. Consider the following two expressions, which have the same value. Which one will typically be more relevant in NLP? Why?\n",
        "```\n",
        "\"Monty Python\"[6:12]\n",
        "[\"Monty\", \"Python\"][1]\n",
        "```"
      ]
    },
    {
      "cell_type": "code",
      "metadata": {
        "id": "apVjzNl2VlgD"
      },
      "source": [
        "# Your typed answer here\n",
        "\n",
        "print(\"Monty Python\"[6:12])\n",
        "\n",
        "print(['Monty', 'Python'][1])\n",
        "\n",
        "# the list will be more relevant because we want to operate on words, not letters"
      ],
      "execution_count": null,
      "outputs": []
    },
    {
      "cell_type": "markdown",
      "metadata": {
        "id": "6V3rxF15Vgdl"
      },
      "source": [
        "☼ 13. We have seen how to represent a sentence as a list of words, where each word is a sequence of characters. What does `sent1[2][2]` do? Why? Experiment with other index values.\n",
        "\n"
      ]
    },
    {
      "cell_type": "code",
      "metadata": {
        "id": "BpllYR0iVi6x"
      },
      "source": [
        "# Your code here\n",
        "sent1[2][2]\n",
        "\n",
        "# Your typed answer here\n",
        "# you are indexing deeper into structures"
      ],
      "execution_count": null,
      "outputs": []
    },
    {
      "cell_type": "markdown",
      "metadata": {
        "id": "EUZZ7oM6WFk6"
      },
      "source": [
        "◑ 17. Use `text9.index()` to find the index of the word `sunset`. You'll need to insert this word as an argument between the parentheses. By a process of trial and error, find the slice for the complete sentence that contains this word.\n",
        "\n"
      ]
    },
    {
      "cell_type": "code",
      "metadata": {
        "id": "vwP9VRpZWHaH"
      },
      "source": [
        "# Your code here\n",
        "\n",
        "text9.index('sunset')\n",
        "\n",
        "' '.join(text9[621:644])"
      ],
      "execution_count": null,
      "outputs": []
    },
    {
      "cell_type": "markdown",
      "metadata": {
        "id": "-d4rMZbhWZGS"
      },
      "source": [
        "◑ 19. What is the difference between the following two lines? Which one will give a larger value? Will this be the case for other texts?\n",
        "\n",
        " \t\n",
        "`sorted(set(w.lower() for w in text1))` \n",
        "\n",
        "`sorted(w.lower() for w in set(text1))`\n",
        "\n",
        "\n",
        "TEXT ANSWER: \n",
        "\n",
        "(This question is asking you to think what `set()` is doing in each version of the code. The first version first creates a lower case set of all words in the text, whereas the second version creates a set BEFORE applying lower case, therefore there will naturally be more words because words like \"The\" and \"the\" will be counted as separate words). "
      ]
    },
    {
      "cell_type": "code",
      "metadata": {
        "id": "9w95mL-sRlMK"
      },
      "source": [
        "len(sorted(set(w.lower() for w in text1)))"
      ],
      "execution_count": null,
      "outputs": []
    },
    {
      "cell_type": "code",
      "metadata": {
        "id": "9AZYNPIcRwZu"
      },
      "source": [
        "len(sorted(w.lower() for w in set(text1)))"
      ],
      "execution_count": null,
      "outputs": []
    },
    {
      "cell_type": "markdown",
      "metadata": {
        "id": "lmiahw41WkWd"
      },
      "source": [
        "◑ 22. Find all the four-letter words in the Chat Corpus (`text5`). With the help of a frequency distribution (`FreqDist`), show these words in decreasing order of frequency.\n",
        "\n"
      ]
    },
    {
      "cell_type": "code",
      "metadata": {
        "id": "pRU50wu8Wltf"
      },
      "source": [
        "# Your code here (hint, use sorted with reverse = True)\n",
        "\n",
        "four_letter_words = [w for w in text5 if len(w) == 4]\n",
        "\n",
        "four_letter_words_fd = FreqDist(four_letter_words)\n",
        "\n",
        "#print(four_letter_words_fd.most_common(10))\n",
        "\n",
        "# need to use reverse = True to do descending order\n",
        "sorted(four_letter_words_fd, reverse = True)"
      ],
      "execution_count": null,
      "outputs": []
    },
    {
      "cell_type": "markdown",
      "metadata": {
        "id": "JZh_a0JjWw_s"
      },
      "source": [
        "◑ 23. Review the discussion of looping with conditions in 4. Use a combination of `for` and `if` statements to loop over the words of the movie script for Monty Python and the Holy Grail (`text6`) and print all the uppercase words, one per line.\n",
        "\n"
      ]
    },
    {
      "cell_type": "code",
      "metadata": {
        "id": "6rBt-zhIW17C"
      },
      "source": [
        "# Your code here\n",
        "\n",
        "for w in text6:\n",
        "  if w.isupper():\n",
        "    print(w)"
      ],
      "execution_count": null,
      "outputs": []
    },
    {
      "cell_type": "markdown",
      "metadata": {
        "id": "n26euVANXBNq"
      },
      "source": [
        "◑ 24. Write expressions for finding all words in text6 that meet the conditions listed below. The result should be in the form of a list of words: `['word1', 'word2', ...].`\n",
        "\n",
        "- Ending in ise\n",
        "- Containing the letter z\n",
        "- Containing the sequence of letters pt\n",
        "- Having all lowercase letters except for an initial capital (i.e., titlecase)"
      ]
    },
    {
      "cell_type": "code",
      "metadata": {
        "id": "Z6zAdrmZWFxx"
      },
      "source": [
        "[w for w in text6 if w.endswith('ise')]"
      ],
      "execution_count": null,
      "outputs": []
    },
    {
      "cell_type": "code",
      "metadata": {
        "id": "gfN9_yREWQea"
      },
      "source": [
        "[w for w in text6 if 'z' in w]"
      ],
      "execution_count": null,
      "outputs": []
    },
    {
      "cell_type": "code",
      "metadata": {
        "id": "Us_cBPGTWVdB"
      },
      "source": [
        "[w for w in text6 if 'pt' in w]"
      ],
      "execution_count": null,
      "outputs": []
    },
    {
      "cell_type": "code",
      "metadata": {
        "id": "37GgE2NnW_Nt"
      },
      "source": [
        "# is there a better way to do this one? \n",
        "[w for w in text6 if len(w) > 1 and w[0].isupper() and w[1].islower()]"
      ],
      "execution_count": null,
      "outputs": []
    }
  ]
}
