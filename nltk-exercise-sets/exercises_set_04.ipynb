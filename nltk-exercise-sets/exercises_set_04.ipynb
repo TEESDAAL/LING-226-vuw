{
  "nbformat": 4,
  "nbformat_minor": 0,
  "metadata": {
    "colab": {
      "private_outputs": true,
      "provenance": [],
      "include_colab_link": true
    },
    "kernelspec": {
      "name": "python3",
      "display_name": "Python 3"
    },
    "language_info": {
      "name": "python"
    }
  },
  "cells": [
    {
      "cell_type": "markdown",
      "metadata": {
        "id": "view-in-github",
        "colab_type": "text"
      },
      "source": [
        "<a href=\"https://colab.research.google.com/github/scskalicky/LING-226-vuw/blob/main/nltk-exercise-sets/exercises_set_04.ipynb\" target=\"_parent\"><img src=\"https://colab.research.google.com/assets/colab-badge.svg\" alt=\"Open In Colab\"/></a>"
      ]
    },
    {
      "cell_type": "markdown",
      "metadata": {
        "id": "Q3iQI5yrnayG"
      },
      "source": [
        "# Exercise set 04\n",
        "\n",
        "This exercise set covers sections 3.6 and 3.7 from Chapter 03 and 4.1 to 4.4 from Ch. 04"
      ]
    },
    {
      "cell_type": "markdown",
      "metadata": {
        "id": "AIKZHsi5nSGU"
      },
      "source": [
        "1. ☼ Define a string `s = 'colorless'`. Write a Python statement that changes this to \"colourless\" using only the slice and concatenation operations."
      ]
    },
    {
      "cell_type": "code",
      "metadata": {
        "id": "eATvASd5Vxp8"
      },
      "source": [
        "# your answer here"
      ],
      "execution_count": null,
      "outputs": []
    },
    {
      "cell_type": "markdown",
      "metadata": {
        "id": "_-lxfYZHnnxP"
      },
      "source": [
        "2. ☼ We can use the slice notation to remove morphological endings on words. For example, `'dogs'[:-1]` removes the last character of `dogs`, leaving `dog`. Use slice notation to remove the affixes from these words (we've inserted a hyphen to indicate the affix boundary, but omit this from your strings): dish-es, run-ning, nation-ality, un-do, pre-heat.\n",
        "\n"
      ]
    },
    {
      "cell_type": "code",
      "metadata": {
        "id": "sxkgulNKVz5z"
      },
      "source": [
        "# your answer here"
      ],
      "execution_count": null,
      "outputs": []
    },
    {
      "cell_type": "markdown",
      "metadata": {
        "id": "XkqoJAfGoAAl"
      },
      "source": [
        "3. ☼ We saw how we can generate an IndexError by indexing beyond the end of a string. Is it possible to construct an index that goes too far to the left, before the start of the string?\n",
        "\n"
      ]
    },
    {
      "cell_type": "code",
      "metadata": {
        "id": "_iLtGH9TV0Qq"
      },
      "source": [
        "# your answer here"
      ],
      "execution_count": null,
      "outputs": []
    },
    {
      "cell_type": "markdown",
      "metadata": {
        "id": "048uJ4fZogDc"
      },
      "source": [
        "4. ☼ We can specify a \"step\" size for the slice. The following returns every second character within the slice: `monty[6:11:2]`. It also works in the reverse direction: `monty[10:5:-2]` Try these for yourself, then experiment with different step values.\n",
        "\n"
      ]
    },
    {
      "cell_type": "code",
      "metadata": {
        "id": "dLGbzjFAV0o3"
      },
      "source": [
        "# your answer here"
      ],
      "execution_count": null,
      "outputs": []
    },
    {
      "cell_type": "markdown",
      "metadata": {
        "id": "jIOX08oVovfU"
      },
      "source": [
        "5. ☼ What happens if you ask the interpreter to evaluate `monty[::-1]`? Explain why this is a reasonable result.\n",
        "\n"
      ]
    },
    {
      "cell_type": "code",
      "metadata": {
        "id": "xuSkOIoOV070"
      },
      "source": [
        "# your answer here"
      ],
      "execution_count": null,
      "outputs": []
    },
    {
      "cell_type": "markdown",
      "metadata": {
        "id": "t0P8M1KC_j07"
      },
      "source": [
        "10. ☼ Rewrite the following loop as a list comprehension:\n",
        "\n",
        " \t\n",
        ">>> `sent = ['The', 'dog', 'gave', 'John', 'the', 'newspaper']`\n",
        ">>> `result = []`\n",
        ">>> `for word in sent:`\n",
        "...    ` word_len = (word, len(word))`\n",
        "...    ` result.append(word_len)`\n",
        ">>> `result`\n",
        "`[('The', 3), ('dog', 3), ('gave', 4), ('John', 4), ('the', 3), ('newspaper', 9)`]"
      ]
    },
    {
      "cell_type": "code",
      "metadata": {
        "id": "i9Ectz1dV1NA"
      },
      "source": [
        "# your answer here"
      ],
      "execution_count": null,
      "outputs": []
    },
    {
      "cell_type": "markdown",
      "metadata": {
        "id": "BLpV8bVT_46x"
      },
      "source": [
        "11. ☼ Define a string `raw` containing a sentence of your own choosing. Now, split raw on some character other than space, such as 's'.\n",
        "\n"
      ]
    },
    {
      "cell_type": "code",
      "metadata": {
        "id": "DyjfTrt0V1je"
      },
      "source": [
        "# your answer here"
      ],
      "execution_count": null,
      "outputs": []
    },
    {
      "cell_type": "markdown",
      "metadata": {
        "id": "8QNB4nS_ADG9"
      },
      "source": [
        "12. ☼ Write a `for loop` to print out the characters of a string, one per line.\n",
        "\n"
      ]
    },
    {
      "cell_type": "code",
      "metadata": {
        "id": "z1rpd2Q6V1_y"
      },
      "source": [
        "# your answer here"
      ],
      "execution_count": null,
      "outputs": []
    },
    {
      "cell_type": "markdown",
      "metadata": {
        "id": "HiQ3Nb97AI2y"
      },
      "source": [
        "13. ☼ What is the difference between calling `split` on a string with no argument or with `' '` as the argument, e.g. `sent.split()` versus `sent.split(' ')`? What happens when the string being split contains tab characters, consecutive space characters, or a sequence of tabs and spaces? (In IDLE you will need to use `'\\t'` to enter a tab character.)\n",
        "\n"
      ]
    },
    {
      "cell_type": "code",
      "metadata": {
        "id": "dweyzWuFV2aK"
      },
      "source": [
        "# your answer here"
      ],
      "execution_count": null,
      "outputs": []
    },
    {
      "cell_type": "markdown",
      "metadata": {
        "id": "V2N15cFmAkPv"
      },
      "source": [
        "14. ☼ Create a variable `words` containing a list of words. Experiment with `words.sort()` and `sorted(words)`. What is the difference?\n",
        "\n"
      ]
    },
    {
      "cell_type": "code",
      "metadata": {
        "id": "C06U6faxV2xa"
      },
      "source": [
        "# your answer here"
      ],
      "execution_count": null,
      "outputs": []
    },
    {
      "cell_type": "markdown",
      "metadata": {
        "id": "MQPPrTqOVLm5"
      },
      "source": [
        "31. ◑ Define the variable `saying` to contain the list \n",
        "> `['After', 'all', 'is', 'said', 'and', 'done', ',', 'more', 'is', 'said', 'than', 'done', '.']`. \n",
        "\n",
        "Process this list using a for loop, and store the length of each word in a new list `lengths`. \n",
        "\n",
        "Hint: begin by assigning the empty list to `lengths`, using `lengths = []`. Then each time through the loop, use `append()` to add another length value to the list. Now do the same thing using a list comprehension."
      ]
    },
    {
      "cell_type": "code",
      "metadata": {
        "id": "LpW96AaAV3Ja"
      },
      "source": [
        "# your answer here"
      ],
      "execution_count": null,
      "outputs": []
    },
    {
      "cell_type": "markdown",
      "metadata": {
        "id": "KWKsAJY5VRs1"
      },
      "source": [
        "32. ◑ Define a variable `silly` to contain the string: `'newly formed bland ideas are inexpressible in an infuriating way'`. (This happens to be the legitimate interpretation that bilingual English-Spanish speakers can assign to Chomsky's famous nonsense phrase, colorless green ideas sleep furiously according to Wikipedia). Now write code to perform the following tasks:\n",
        "\n",
        "> a. Split `silly` into a list of strings, one per word, using Python's `split()` operation, and save this to a variable called `bland`. \\\n",
        "> b. Extract the second letter of each word in `silly` and join them into a string, to get `'eoldrnnnna'`. \\\n",
        "> c. Combine the words in `bland` back into a single string, using `join()`. Make sure the words in the resulting string are separated with whitespace. \\\n",
        "> d. Print the words of `silly` in alphabetical order, one per line."
      ]
    },
    {
      "cell_type": "code",
      "metadata": {
        "id": "C_qoLqayV3e5"
      },
      "source": [
        "# your answer here"
      ],
      "execution_count": null,
      "outputs": []
    },
    {
      "cell_type": "markdown",
      "metadata": {
        "id": "wLXtW0e-qCac"
      },
      "source": [
        "These are from Chapter 04"
      ]
    },
    {
      "cell_type": "markdown",
      "metadata": {
        "id": "VLQYXfRNYnST"
      },
      "source": [
        "14. ◑ Write a function `novel10(text)` that prints any word that appeared in the last 10% of a text that had not been encountered earlier.\n",
        "\n",
        "*Note: check section 4.1 and 4.2 in chapter 04 for how to do this*\n"
      ]
    },
    {
      "cell_type": "code",
      "metadata": {
        "id": "InN2axkEV30x"
      },
      "source": [
        "# your answer here"
      ],
      "execution_count": null,
      "outputs": []
    },
    {
      "cell_type": "markdown",
      "metadata": {
        "id": "Ep7wsnq2YnVH"
      },
      "source": [
        "15. ◑ Write a program that takes a sentence `expressed` as a single string, splits it and counts up the words. Get it to print out each word and the word's frequency, one per line, in alphabetical order."
      ]
    },
    {
      "cell_type": "code",
      "metadata": {
        "id": "N87vlwjuV4Fx"
      },
      "source": [
        "# your answer here"
      ],
      "execution_count": null,
      "outputs": []
    },
    {
      "cell_type": "markdown",
      "metadata": {
        "id": "Bu2rhJdwZUeZ"
      },
      "source": [
        "17. ◑ Write a function `shorten(text, n)` to process a text, omitting the n most frequently occurring words of the text. How readable is it?"
      ]
    },
    {
      "cell_type": "code",
      "metadata": {
        "id": "rCXl19zXV4U0"
      },
      "source": [
        "# your answer here"
      ],
      "execution_count": null,
      "outputs": []
    }
  ]
}
