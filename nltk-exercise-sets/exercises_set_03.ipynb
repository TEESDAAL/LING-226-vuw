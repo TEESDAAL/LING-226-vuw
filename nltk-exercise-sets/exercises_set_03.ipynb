{
  "nbformat": 4,
  "nbformat_minor": 0,
  "metadata": {
    "colab": {
      "private_outputs": true,
      "provenance": [],
      "include_colab_link": true
    },
    "kernelspec": {
      "name": "python3",
      "display_name": "Python 3"
    },
    "language_info": {
      "name": "python"
    }
  },
  "cells": [
    {
      "cell_type": "markdown",
      "metadata": {
        "id": "view-in-github",
        "colab_type": "text"
      },
      "source": [
        "<a href=\"https://colab.research.google.com/github/scskalicky/LING-226-vuw/blob/main/nltk-exercise-sets/exercises_set_03.ipynb\" target=\"_parent\"><img src=\"https://colab.research.google.com/assets/colab-badge.svg\" alt=\"Open In Colab\"/></a>"
      ]
    },
    {
      "cell_type": "markdown",
      "metadata": {
        "id": "jDQx_oELnJb-"
      },
      "source": [
        "# Exercise Set 03\n",
        "\n",
        "Exercises here cover sections 3.1 to 3.6 from Chapter 03\n"
      ]
    },
    {
      "cell_type": "code",
      "metadata": {
        "id": "eA13Lo--WwmA"
      },
      "source": [
        "import nltk, re\n",
        "nltk.download('book')\n",
        "from nltk.corpus import brown"
      ],
      "execution_count": null,
      "outputs": []
    },
    {
      "cell_type": "markdown",
      "metadata": {
        "id": "WXrlB8csr5CI"
      },
      "source": [
        "7. ☼ Write regular expressions to match the following classes of strings:\n",
        "\n",
        "- A single determiner (assume that \"a\", \"an\", and \"the\" are the only determiners).\n",
        "\n",
        "- An arithmetic expression using integers, addition, and multiplication, such as 2*3+8."
      ]
    },
    {
      "cell_type": "code",
      "metadata": {
        "id": "j_BOwHTZUvsS"
      },
      "source": [
        "# your answer here"
      ],
      "execution_count": null,
      "outputs": []
    },
    {
      "cell_type": "markdown",
      "metadata": {
        "id": "drxXLXCkEfGT"
      },
      "source": [
        "18. ◑ Read in some text from a corpus, tokenize it, and print the list of all wh-word types that occur. (wh-words in English are used in questions, relative clauses and exclamations: who, which, what, and so on.) Print them in order. Are any words duplicated in this list, because of the presence of case distinctions or punctuation?\n",
        "\n",
        "**Note:** The first code cell of this notebook prepares brown for you\n",
        "\n"
      ]
    },
    {
      "cell_type": "code",
      "metadata": {
        "id": "IvKe1AqaU-ns"
      },
      "source": [
        "# your answer here"
      ],
      "execution_count": null,
      "outputs": []
    },
    {
      "cell_type": "markdown",
      "metadata": {
        "id": "aPNdPs6LGmh6"
      },
      "source": [
        "19. ◑ Create a file consisting of words and (made up) frequencies, where each line consists of a word, the space character, and a positive integer, e.g. `fuzzy 53`. Read the file into a Python list using `open(filename).readlines()`. Next, break each line into its two fields using `split()`, and convert the number into an integer using `int()`. The result should be a list of the form: `[['fuzzy', 53], ...]`.\n",
        "\n",
        "**Note** there is a file named `fake_freq.txt` in the shared folder you can use to see what this question is asking for. \n"
      ]
    },
    {
      "cell_type": "code",
      "metadata": {
        "id": "U3JDomt6U--W"
      },
      "source": [
        "# your answer here"
      ],
      "execution_count": null,
      "outputs": []
    },
    {
      "cell_type": "markdown",
      "metadata": {
        "id": "4aBSbaNUDvn4"
      },
      "source": [
        "24. ◑ Try to write code to convert text into `hAck3r`, using regular expressions and substitution, where `e → 3, i → 1, o → 0, l → |, s → 5, . → 5w33t!, ate → 8`. Normalize the text to lowercase before converting it. Add more substitutions of your own. Now try to map s to two different values: $ for word-initial s, and 5 for word-internal s.\n",
        "\n"
      ]
    },
    {
      "cell_type": "code",
      "metadata": {
        "id": "7hPk9qPKU_Iv"
      },
      "source": [
        "# your answer here"
      ],
      "execution_count": null,
      "outputs": []
    },
    {
      "cell_type": "markdown",
      "metadata": {
        "id": "RD6q57GsJair"
      },
      "source": [
        "25. ◑ Pig Latin is a simple transformation of English text. Each word of the text is converted as follows: move any consonant (or consonant cluster) that appears at the start of the word to the end, then append ay, e.g. string → ingstray, idle → idleay. http://en.wikipedia.org/wiki/Pig_Latin\n",
        "\n",
        "> a. Write a function to convert a word to Pig Latin. \\\n",
        "> b. Write code that converts text, instead of individual words. \\\n",
        "> c. Extend it further to preserve capitalization, to keep qu together (i.e. so that quiet becomes ietquay), and to detect when y is used as a consonant (e.g. yellow) vs a vowel (e.g. style)."
      ]
    },
    {
      "cell_type": "code",
      "metadata": {
        "id": "105fqUyrU_Wk"
      },
      "source": [
        "# your answer here"
      ],
      "execution_count": null,
      "outputs": []
    }
  ]
}
