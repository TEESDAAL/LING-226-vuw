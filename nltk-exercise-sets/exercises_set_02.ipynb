{
  "nbformat": 4,
  "nbformat_minor": 0,
  "metadata": {
    "colab": {
      "private_outputs": true,
      "provenance": [],
      "include_colab_link": true
    },
    "kernelspec": {
      "name": "python3",
      "display_name": "Python 3"
    },
    "language_info": {
      "name": "python"
    }
  },
  "cells": [
    {
      "cell_type": "markdown",
      "metadata": {
        "id": "view-in-github",
        "colab_type": "text"
      },
      "source": [
        "<a href=\"https://colab.research.google.com/github/scskalicky/LING-226-vuw/blob/main/nltk-exercise-sets/exercises_set_02.ipynb\" target=\"_parent\"><img src=\"https://colab.research.google.com/assets/colab-badge.svg\" alt=\"Open In Colab\"/></a>"
      ]
    },
    {
      "cell_type": "markdown",
      "metadata": {
        "id": "TVmPWWSB4eaT"
      },
      "source": [
        "\n",
        "## Exercise set 02"
      ]
    },
    {
      "cell_type": "markdown",
      "metadata": {
        "id": "5OK5jgahugs6"
      },
      "source": [
        "4. ☼ Read in the texts of the State of the Union addresses, using the state_union corpus reader. Count occurrences of men, women, and people in each document. What has happened to the usage of these words over time?"
      ]
    },
    {
      "cell_type": "code",
      "metadata": {
        "id": "p0HbtryMujg8"
      },
      "source": [
        "# your answer here"
      ],
      "execution_count": null,
      "outputs": []
    },
    {
      "cell_type": "markdown",
      "metadata": {
        "id": "HdyxdxDXBQNy"
      },
      "source": [
        "7. ☼ According to Strunk and White's *Elements of Style*, the word `however`, used at the start of a sentence, means \"in whatever way\" or \"to whatever extent\", and not \"nevertheless\". They give this example of correct usage: [However you advise him, he will probably do as he thinks best.](http://www.bartleby.com/141/strunk3.html) Use the concordance tool to study actual usage of this word in the various texts we have been considering. See also the LanguageLog posting [\"Fossilized prejudices about 'however'.\"](http://itre.cis.upenn.edu/~myl/languagelog/archives/001913.html)"
      ]
    },
    {
      "cell_type": "code",
      "metadata": {
        "id": "J3JORCJduvh6"
      },
      "source": [
        "# Your answer here. "
      ],
      "execution_count": null,
      "outputs": []
    },
    {
      "cell_type": "markdown",
      "metadata": {
        "id": "IROdBwQ-M05m"
      },
      "source": [
        "15. ◑ Write a program to find all words that occur at least three times in the Brown Corpus.\n"
      ]
    },
    {
      "cell_type": "code",
      "metadata": {
        "id": "IK9_Vny45f4D"
      },
      "source": [
        "# your answer here"
      ],
      "execution_count": null,
      "outputs": []
    },
    {
      "cell_type": "markdown",
      "metadata": {
        "id": "6mIkcyo3OYfa"
      },
      "source": [
        "16. ◑ Write a program to generate a table of lexical diversity scores (i.e. token/type ratios), as we saw in Chapter 2 Section 1.1. Include the full set of Brown Corpus genres (`nltk.corpus.brown.categories()`). Which genre has the lowest diversity (greatest number of tokens per type)? Is this what you would have expected?\n"
      ]
    },
    {
      "cell_type": "code",
      "metadata": {
        "id": "3hkTCotv5wxz"
      },
      "source": [
        "# your answer here"
      ],
      "execution_count": null,
      "outputs": []
    },
    {
      "cell_type": "markdown",
      "metadata": {
        "id": "glx1Cy2cXZ80"
      },
      "source": [
        "19. ◑ Write a program to create a table of word frequencies by genre, like the one given in Chapter 2, Section 1 for modals. Choose your own words and try to find words whose presence (or absence) is typical of a genre. Discuss your findings. USE BROWN.\n"
      ]
    },
    {
      "cell_type": "code",
      "metadata": {
        "id": "1ndniKpQ57cT"
      },
      "source": [
        "# your answer here"
      ],
      "execution_count": null,
      "outputs": []
    },
    {
      "cell_type": "markdown",
      "metadata": {
        "id": "pbam5O70YHeY"
      },
      "source": [
        "20. ◑ Write a function `word_freq()` that takes a word and the name of a section of the Brown Corpus as arguments, and computes the frequency of the word in that section of the corpus.\n"
      ]
    },
    {
      "cell_type": "code",
      "metadata": {
        "id": "tOovPtj66EvK"
      },
      "source": [
        "# your answer here"
      ],
      "execution_count": null,
      "outputs": []
    }
  ]
}
