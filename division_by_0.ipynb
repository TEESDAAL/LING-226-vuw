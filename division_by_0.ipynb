{
  "cells": [
    {
      "cell_type": "markdown",
      "metadata": {
        "id": "view-in-github",
        "colab_type": "text"
      },
      "source": [
        "<a href=\"https://colab.research.google.com/github/scskalicky/LING-226-vuw/blob/main/division_by_0.ipynb\" target=\"_parent\"><img src=\"https://colab.research.google.com/assets/colab-badge.svg\" alt=\"Open In Colab\"/></a>"
      ]
    },
    {
      "cell_type": "markdown",
      "source": [
        "# Running into a division by zero problem?\n",
        "\n",
        "Sometimes you might find that trying to calculate lexical diversity on sentences breaks with a \"division by 0\" error! This means that for some reason, a sentence with no length/words is being input into the function. What to do!\n",
        "\n",
        "Here are a possible set of solutions. You could first sentenize your text and then clean out any sentence that is empty. Here are a few list comprehensions with varying options on how to do so!\n"
      ],
      "metadata": {
        "id": "mXRnFWDB6DDp"
      }
    },
    {
      "cell_type": "code",
      "execution_count": 1,
      "metadata": {
        "id": "lIYdn1woOS1n"
      },
      "outputs": [],
      "source": [
        " # create a list of \"sentences\", including a sentence which is an empty string, as well as a space\n",
        "sentences = ['here is a sent', 'here is another sent', '', ' ']"
      ]
    },
    {
      "cell_type": "code",
      "source": [
        "# only keep sentences if the length is greater than zero\n",
        "[s.split() for s in sentences if len(s.split()) != 0]"
      ],
      "metadata": {
        "colab": {
          "base_uri": "https://localhost:8080/"
        },
        "id": "dvz5Wda86fpM",
        "outputId": "5300fc6c-acdc-41e1-a974-42d68a640b7e"
      },
      "execution_count": 2,
      "outputs": [
        {
          "output_type": "execute_result",
          "data": {
            "text/plain": [
              "[['here', 'is', 'a', 'sent'], ['here', 'is', 'another', 'sent']]"
            ]
          },
          "metadata": {},
          "execution_count": 2
        }
      ]
    },
    {
      "cell_type": "code",
      "source": [
        "# this one checks whether s is an empty string\n",
        "[s.split() for s in sentences if s != '']"
      ],
      "metadata": {
        "id": "ak8DxslSzbKC",
        "outputId": "3375a397-2d31-4d09-a102-2e883c553d48",
        "colab": {
          "base_uri": "https://localhost:8080/"
        }
      },
      "execution_count": null,
      "outputs": [
        {
          "output_type": "execute_result",
          "data": {
            "text/plain": [
              "[['here', 'is', 'a', 'sent'], ['here', 'is', 'another', 'sent'], []]"
            ]
          },
          "metadata": {},
          "execution_count": 7
        }
      ]
    },
    {
      "cell_type": "code",
      "source": [
        "# same thing, but using truthiness which is less readable\n",
        "[s.split() for s in sentences if s]"
      ],
      "metadata": {
        "colab": {
          "base_uri": "https://localhost:8080/"
        },
        "id": "Ws6FgIqg6zIa",
        "outputId": "877e4d7e-5bc0-497a-ec91-781ddd7900ad"
      },
      "execution_count": 4,
      "outputs": [
        {
          "output_type": "execute_result",
          "data": {
            "text/plain": [
              "[['here', 'is', 'a', 'sent'], ['here', 'is', 'another', 'sent'], []]"
            ]
          },
          "metadata": {},
          "execution_count": 4
        }
      ]
    },
    {
      "cell_type": "code",
      "source": [
        "# a more computationally efficient solution - (that uses a list comprehension)\n",
        "[s.split() for s in sentences if s != '' and not s.isspace()]"
      ],
      "metadata": {
        "id": "EgYjMZM207is",
        "outputId": "3ba21f2d-911c-4db4-af4c-ab41eb31ad4e",
        "colab": {
          "base_uri": "https://localhost:8080/"
        }
      },
      "execution_count": 5,
      "outputs": [
        {
          "output_type": "execute_result",
          "data": {
            "text/plain": [
              "[['here', 'is', 'a', 'sent'], ['here', 'is', 'another', 'sent']]"
            ]
          },
          "metadata": {},
          "execution_count": 5
        }
      ]
    },
    {
      "cell_type": "code",
      "source": [
        "# you could also opt to include an if statement in your function\n",
        "\n",
        "def sentence_printer(sents):\n",
        "  for sent in sents:\n",
        "    sent_tokens = sent.split()\n",
        "    if len(sent_tokens) != 0:\n",
        "      print(sent_tokens)\n",
        "\n"
      ],
      "metadata": {
        "id": "UEui9Zzm0I6e"
      },
      "execution_count": 6,
      "outputs": []
    },
    {
      "cell_type": "code",
      "source": [
        "sentence_printer(sentences)"
      ],
      "metadata": {
        "colab": {
          "base_uri": "https://localhost:8080/"
        },
        "id": "e6UqFG5R7Lv-",
        "outputId": "decbb777-c00f-4d7b-d75d-26e6227f0c61"
      },
      "execution_count": 7,
      "outputs": [
        {
          "output_type": "stream",
          "name": "stdout",
          "text": [
            "['here', 'is', 'a', 'sent']\n",
            "['here', 'is', 'another', 'sent']\n"
          ]
        }
      ]
    }
  ],
  "metadata": {
    "colab": {
      "provenance": [],
      "include_colab_link": true
    },
    "kernelspec": {
      "display_name": "Python 3",
      "name": "python3"
    }
  },
  "nbformat": 4,
  "nbformat_minor": 0
}