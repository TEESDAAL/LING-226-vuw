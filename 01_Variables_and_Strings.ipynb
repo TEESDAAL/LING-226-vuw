{
 "cells": [
  {
   "cell_type": "markdown",
   "metadata": {
    "colab_type": "text",
    "id": "view-in-github"
   },
   "source": [
    "<a href=\"https://colab.research.google.com/github/scskalicky/LING-226-vuw/blob/main/01_Variables_and_Strings.ipynb\" target=\"_parent\"><img src=\"https://colab.research.google.com/assets/colab-badge.svg\" alt=\"Open In Colab\"/></a>"
   ]
  },
  {
   "cell_type": "markdown",
   "metadata": {
    "id": "9QRP-0q0YXG6"
   },
   "source": [
    "# Get your feet wet and start using some Python.\n",
    "\n",
    "Python has a reputation among some people for being \"easy\" because the code almost looks like you can just type what you want. An older [XKCD](https://xkcd.com/) comic tried to make this point (although it was when Python 2.x was being used!). You might not immediately get parts of this comic, but come back later in the course and you might find it more meaningful!\n",
    "\n",
    "\n",
    "> <img src = \"https://imgs.xkcd.com/comics/python.png\" height = 500>\n",
    "\n",
    "\n",
    "\n",
    "Anyhow, let's put Python's reputation to the test and dive right into some basics and start using it.\n",
    "\n",
    "In this section, there are some code cells which you do not need to modify.\n",
    "\n",
    "1. Look at each cell and try to understand it without running the code cell. What do you think will happen when you run the code cell?\n",
    "2. Run the code cell (click the Play icon) to check your prediction. Were you right?\n",
    "\n"
   ]
  },
  {
   "cell_type": "code",
   "execution_count": null,
   "metadata": {
    "id": "0Gw_k8_1YXG6"
   },
   "outputs": [],
   "source": [
    "print(\"Soda Onion\")"
   ]
  },
  {
   "cell_type": "code",
   "execution_count": null,
   "metadata": {
    "id": "cJvWmCmUYXG7"
   },
   "outputs": [],
   "source": [
    "name = \"Soda Onion\"\n",
    "print(name)"
   ]
  },
  {
   "cell_type": "code",
   "execution_count": null,
   "metadata": {
    "id": "DqkdfJ4fYXG7"
   },
   "outputs": [],
   "source": [
    "len(name)"
   ]
  },
  {
   "cell_type": "code",
   "execution_count": null,
   "metadata": {
    "id": "Te9OVCmMZBAr"
   },
   "outputs": [],
   "source": [
    "for letter in name:\n",
    "  print(letter)"
   ]
  },
  {
   "cell_type": "code",
   "execution_count": null,
   "metadata": {
    "id": "U6KURTZnYXG7"
   },
   "outputs": [],
   "source": [
    "[letter for letter in name]"
   ]
  },
  {
   "cell_type": "code",
   "execution_count": null,
   "metadata": {
    "id": "NyRg_O2janNM"
   },
   "outputs": [],
   "source": [
    "[letter for letter in reversed(name)]"
   ]
  },
  {
   "cell_type": "code",
   "execution_count": null,
   "metadata": {
    "id": "VDaDoQi2YXG8"
   },
   "outputs": [],
   "source": [
    "NZ_Pop = 4868882\n",
    "\n",
    "World_Pop = 7900000000\n",
    "\n",
    "NZ_perc = (NZ_Pop / World_Pop) * 100\n",
    "\n",
    "NZ_perc"
   ]
  },
  {
   "cell_type": "code",
   "execution_count": null,
   "metadata": {
    "id": "n6dO7PlSYXG8"
   },
   "outputs": [],
   "source": [
    "anthem_te_reo = \"E Ihowa Atua,\\nO ngā iwi mātou rā,\\nāta whakarongo na;\\nMe aroha noa.\\nKia hua ko te pai;\\nKia tau tō atawhai;\\nManaakitia mai\\nAotearoa\"\n",
    "anthem_english = \"God of nations at thy feet,\\nIn the bonds of love we meet.\\nHear our voices, we entreat\\nGod defend our free land.\\nGuard Pacific's triple star\\nFrom the shafts of strife and war,\\nMake her praises heard afar,\\nGod defend New Zealand.\"\n",
    "print(anthem_te_reo + \"\\n\\n\" + anthem_english)"
   ]
  },
  {
   "cell_type": "markdown",
   "metadata": {
    "id": "-qh32dQVaARK"
   },
   "source": [
    "# Values and Variables\n",
    "\n",
    "The code cells above contained a range of Python *values* which were saved to different *variables*. Values are the basic pieces of information or data that Python (and other programming languages) work with.\n",
    "\n",
    "A value can be a number, a piece of text, or other things, such as containers. Here are some of the examples used in the code cells above\n",
    "\n",
    "Variable | Value | Type\n",
    "------|------|------\n",
    "`name`|\"Soda Onion\"|text\n",
    "`NZ_Pop`|4868882|number\n",
    "\n",
    "\n",
    "The *type* of a value is actually more specific than the table above suggests. For example, numbers are classified into integers (whole numbers) or floats (decimals). And text is classified as a `string` (more on this later).\n",
    "\n",
    "You can check the `type` of a value in Python by using the `type()` function. See below, the `type` for each value will be shown in the output. Knowing what the type of a value is can be useful when performing operations on text versus numbers."
   ]
  },
  {
   "cell_type": "code",
   "execution_count": null,
   "metadata": {
    "id": "VxRZMPyQfwTB"
   },
   "outputs": [],
   "source": [
    "# int = integer\n",
    "type(42)"
   ]
  },
  {
   "cell_type": "code",
   "execution_count": null,
   "metadata": {
    "id": "nErm1lMnfwTK"
   },
   "outputs": [],
   "source": [
    "# float = decimal\n",
    "type(4.2)"
   ]
  },
  {
   "cell_type": "code",
   "execution_count": null,
   "metadata": {
    "id": "hxsyHuPrfwTK"
   },
   "outputs": [],
   "source": [
    "# str = text\n",
    "type('forty-two')"
   ]
  },
  {
   "cell_type": "markdown",
   "metadata": {
    "id": "rGU1T4uKVtXR"
   },
   "source": [
    "## What’s the big deal with variables?\n",
    "- values are gone once they are executed by the interpreter\n",
    "- variables will persist in memory (some longer than others)\n",
    "- variables can be updated based on different conditions\n",
    "\n",
    "### Assigning values to a variable\n",
    "To assign a value to a variable, we use the `=` sign and the following syntax:\n",
    "\n",
    "> `variable_name = value`\n",
    "\n",
    "### Rules for variable names\n",
    "- Do not start with numbers\n",
    "- Do not use special characters (e.g., #, @)\n",
    "- Do not use Python keywords (e.g., `is`, `True`, `False`)\n"
   ]
  },
  {
   "cell_type": "markdown",
   "metadata": {
    "id": "D6T-0rq3UsyC"
   },
   "source": [
    "## **Your Turn**\n",
    "\n",
    "1. Below, create a code cell and save some text to a variable. Give your variable a descriptive name.\n",
    "\n",
    "To save text to a variable, use this syntax:\n",
    "\n",
    "> `variable_name = \"text\"`\n",
    "\n",
    "\n",
    "2. Then, in a new code cell, use the `print()` function to print the value of your variable to the console. Use this syntax:\n",
    "\n",
    "> `print(variable)`"
   ]
  },
  {
   "cell_type": "markdown",
   "metadata": {
    "id": "tUcEouAVLVv_"
   },
   "source": [
    "# Strings\n",
    "\n",
    "As you saw above, we are using the word `string` to represent text. You might wonder, why not just call it `text` or `words`? The reason provides us with our first glimpse into the difference between how humans and computers \"see\" language. For humans, we see groups of letters and white space form words. However, for computers, strings are defined as a **sequence of characters**. The word `string` thus represents the sequenced nature.\n",
    "\n",
    "Think of a string like a laundry line - there is a start and an end, and the washed clothing on the line (as well as the spots without clothing) represent the characters in the string. And, there are other types of sequences in Python, so a string is a specific type of sequence, one which contains characters representing written language.\n",
    "\n",
    "### Creating strings\n",
    "\n",
    "You've seen above that we used quotes to surround the strings, these quotes are called `delimiters` and are how you determine the start and end of a string. Crucially, the delimiter on each end must match:\n",
    "\n",
    "  - `' + '` (single quotes)\n",
    "  - `\" + \"`  (double quotes)\n",
    "  - `''' + '''` (triple single quotes)\n",
    "  - `\"\"\" + \"\"\"` (triple double quotes)\n",
    "\n",
    "You may note that it seems you can use double and single quotes interchangably as long as the quotes (delimiters) match, and this is indeed the case! However, we may choose to use one type of quote over the other as we shouldn't use a quote contained within a string."
   ]
  },
  {
   "cell_type": "code",
   "execution_count": 9,
   "metadata": {
    "id": "I_vsfXBYMehY"
   },
   "outputs": [
    {
     "ename": "SyntaxError",
     "evalue": "unterminated string literal (detected at line 2) (1504644709.py, line 2)",
     "output_type": "error",
     "traceback": [
      "\u001b[0;36m  Cell \u001b[0;32mIn[9], line 2\u001b[0;36m\u001b[0m\n\u001b[0;31m    print('I'm so happy to be here!')\u001b[0m\n\u001b[0m                                   ^\u001b[0m\n\u001b[0;31mSyntaxError\u001b[0m\u001b[0;31m:\u001b[0m unterminated string literal (detected at line 2)\n"
     ]
    }
   ],
   "source": [
    "# Doesn't run as the string is ended early by the quote in the I'm\n",
    "print('I'm so happy to be here!')"
   ]
  },
  {
   "cell_type": "code",
   "execution_count": 2,
   "metadata": {
    "id": "AzvGHX7QMiyh"
   },
   "outputs": [
    {
     "name": "stdout",
     "output_type": "stream",
     "text": [
      "I'm so happy to be here\n"
     ]
    }
   ],
   "source": [
    "print(\"I'm so happy to be here\")"
   ]
  },
  {
   "cell_type": "code",
   "execution_count": 4,
   "metadata": {
    "scrolled": true
   },
   "outputs": [
    {
     "name": "stdout",
     "output_type": "stream",
     "text": [
      "\"Wow\" he exclaimed \"I'd heard triple quotes were cool\"\n"
     ]
    }
   ],
   "source": [
    "# Note in cases where both types of quotes are used (\", and ') we can use triple quotes\n",
    "print('''\"Wow\" he exclaimed \"I'd heard triple quotes were cool\"''')"
   ]
  },
  {
   "cell_type": "code",
   "execution_count": 10,
   "metadata": {},
   "outputs": [
    {
     "name": "stdout",
     "output_type": "stream",
     "text": [
      "E Ihowa Atua,\n",
      "O ngā iwi mātou rā,\n",
      "āta whakarongo na;\n",
      "Me aroha noa.\n",
      "Kia hua ko te pai;\n",
      "Kia tau tō atawhai;\n",
      "Manaakitia mai\n",
      "Aotearoa\n",
      "\n",
      "God of nations at thy feet,\n",
      "In the bonds of love we meet.\n",
      "Hear our voices, we entreat\n",
      "God defend our free land.\n",
      "Guard Pacific's triple star\n",
      "From the shafts of strife and war,\n",
      "Make her praises heard afar,\n",
      "God defend New Zealand.\n"
     ]
    }
   ],
   "source": [
    "# Another neat property of triple quotes is that they can span multiple lines,\n",
    "# this allows us to re-write our anthem code from above in a much more readable manner!\n",
    "anthem_te_reo = \"\"\"E Ihowa Atua,\n",
    "O ngā iwi mātou rā,\n",
    "āta whakarongo na;\n",
    "Me aroha noa.\n",
    "Kia hua ko te pai;\n",
    "Kia tau tō atawhai;\n",
    "Manaakitia mai\n",
    "Aotearoa\"\"\"\n",
    "\n",
    "anthem_english = \"\"\"God of nations at thy feet,\n",
    "In the bonds of love we meet.\n",
    "Hear our voices, we entreat\n",
    "God defend our free land.\n",
    "Guard Pacific's triple star\n",
    "From the shafts of strife and war,\n",
    "Make her praises heard afar,\n",
    "God defend New Zealand.\"\"\"\n",
    "\n",
    "print(anthem_te_reo + \"\\n\\n\" + anthem_english)"
   ]
  },
  {
   "cell_type": "markdown",
   "metadata": {
    "id": "3QNH-A0SNDCy"
   },
   "source": [
    "## **String Functions**\n",
    "\n",
    "We can use built-in functions to perform basic operations on strings. For example:\n",
    "\n",
    "> * `string.upper()` = return a lowercase version of a string\n",
    "> * `string.lower()` = return an uppercase version of a string\n",
    "> * `string.title()` = return a title case version of a string\n",
    "> * `string.strip()` = strip all whitespace from a string\n",
    "> * `string.rstrip()` = strip all trailing whitespace from a string\n",
    "> * `string.lstrip()` = strip all leading whitespace from a string\n",
    "\n",
    "*You can find a more complete list of string methods/functions [here](https://www.geeksforgeeks.org/python-string-methods/)*\n",
    "\n",
    "\n"
   ]
  },
  {
   "cell_type": "code",
   "execution_count": null,
   "metadata": {
    "id": "hjWw19TnOC1K"
   },
   "outputs": [],
   "source": [
    "# Print a lower case version of the string using .lower()\n",
    "print('KIWI'.lower())"
   ]
  },
  {
   "cell_type": "code",
   "execution_count": null,
   "metadata": {
    "id": "mh8pg8YpR0WZ"
   },
   "outputs": [],
   "source": [
    "# Remove the whitespace from the front of a sentence using .lstrip()\n",
    "'    look at how the whitespace in front of these words goes away!'.lstrip()"
   ]
  },
  {
   "cell_type": "markdown",
   "metadata": {
    "id": "K6flE7PvxFPd"
   },
   "source": [
    "We can also use the Python function `len()` to count the length of a string. Since a string is a series of characters, `len()` will tell us how many characters are in a string."
   ]
  },
  {
   "cell_type": "code",
   "execution_count": null,
   "metadata": {
    "id": "A2OfSnUmOHfD"
   },
   "outputs": [],
   "source": [
    "# Count the length of a string using len()\n",
    "len('kiwi')"
   ]
  },
  {
   "cell_type": "markdown",
   "metadata": {
    "id": "aeNhhY5TqeXU"
   },
   "source": [
    "Take note that `len()` and `print()` required putting the variable or value inside the brackets, whereas the other functions require putting the variable or string first and typing the `.function()` afterwards.\n",
    "\n",
    "The first kind of function, such as `print()` and `len()` are functions not specific to any one type or class. The second kind, such as `.upper()` are specific to a type (strings), and thus that function can only be used on values of that type. You can think of the `.function()` style as a tail which belongs to a specific animal. Foxes can only use fox tails, and dogs can only use dog tails. Strings can only use string functions, and other types can only use their functions.\n",
    "\n",
    "Later on, this distinction becomes fuzzy when we start importing functions from different libraries, because we can use the `.function()` method to call functions from libraries, or import them directly. But the general principle still remains - functions which are specific to *something* (either a type, library, or module) can be called using the `.` notation. You can see this below, where I can import a library (called `math`) and then use the `.fsum()` function to calculate the sum of two numbers.\n",
    "\n",
    "In the second cell, I import *just* the function, which makes it available without needing to use the `.` notation. This may be confusing right now, but you'll notice how different strategies for importing influence the way that functions are available in a notebook or a program.\n"
   ]
  },
  {
   "cell_type": "code",
   "execution_count": null,
   "metadata": {
    "id": "y-EuogihrYcH"
   },
   "outputs": [],
   "source": [
    "# Import the library and then call a specific function from that library\n",
    "import math\n",
    "math.fsum([1,2])"
   ]
  },
  {
   "cell_type": "code",
   "execution_count": null,
   "metadata": {
    "id": "PJFi1qijroNP"
   },
   "outputs": [],
   "source": [
    "# Import just the function from the math library\n",
    "from math import fsum\n",
    "fsum([1,2])"
   ]
  },
  {
   "cell_type": "markdown",
   "metadata": {
    "id": "qGnAZVeQOZl3"
   },
   "source": [
    "## **Your Turn**\n",
    "\n",
    "- Create some new code cells below\n",
    "- In the code cells, create some strings and try:\n",
    "  - using different delimiters\n",
    "  - using different functions on the strings\n",
    "  - saving the strings to a variable name and then using functions\n",
    "\n",
    "\n",
    "\n",
    "\n"
   ]
  },
  {
   "cell_type": "code",
   "execution_count": null,
   "metadata": {
    "id": "4ufEFwbq4ebw"
   },
   "outputs": [],
   "source": []
  },
  {
   "cell_type": "markdown",
   "metadata": {
    "id": "8Krj-uj5PnVC"
   },
   "source": [
    "## **Unpacking Strings**\n",
    "\n",
    "To continue the point I was making above, strings might look like sentences or phrases to us, and we can understand the differences between letters, punctuation, and whitespace. But computationally these are all variably equal **characters**, and as such a string in Python will be as long as the number of characters.\n",
    "\n",
    "For example, note how the length of the following two strings is different, even though the phrase is identical. Can you see why?"
   ]
  },
  {
   "cell_type": "code",
   "execution_count": null,
   "metadata": {
    "id": "pBcB5-ItP2Ea"
   },
   "outputs": [],
   "source": [
    "# Version 1\n",
    "len('underneath it all')"
   ]
  },
  {
   "cell_type": "code",
   "execution_count": null,
   "metadata": {
    "id": "nBbJVqjKP4jK"
   },
   "outputs": [],
   "source": [
    "# Version 2\n",
    "len('underneath it all ')"
   ]
  },
  {
   "cell_type": "markdown",
   "metadata": {
    "id": "TewNwKv0Qz0u"
   },
   "source": [
    "Punctuation also matters, compare these two examples, why is the first version longer than the second?"
   ]
  },
  {
   "cell_type": "code",
   "execution_count": null,
   "metadata": {
    "id": "VHvWorwGQ4kE"
   },
   "outputs": [],
   "source": [
    "len(\"I can't even\")"
   ]
  },
  {
   "cell_type": "code",
   "execution_count": null,
   "metadata": {
    "id": "nMiqR8EfQ7OB"
   },
   "outputs": [],
   "source": [
    "len(\"I cant even\")"
   ]
  },
  {
   "cell_type": "markdown",
   "metadata": {
    "id": "vrXHNlOj1r_Z"
   },
   "source": [
    "# Discussion\n",
    "\n",
    "Consider the way strings are stored computationally.\n",
    "\n",
    "- What implications or challenges do you think this might pose for the computational representation of text?\n",
    "\n",
    "- Based on your understanding of strings thus far, are there any differences between the following computational representations of text?\n",
    "  - words versus letters\n",
    "  - sentences versus words\n",
    "  - paragraphs versus sentences\n",
    "  - texts versus paragraphs\n",
    "\n",
    "- What remaining questions do you have about variables, strings, and the functions used in this notebook?\n",
    "\n"
   ]
  }
 ],
 "metadata": {
  "colab": {
   "authorship_tag": "ABX9TyP0dt9fcn60Xvc/2tCyC6HI",
   "include_colab_link": true,
   "private_outputs": true,
   "provenance": []
  },
  "gpuClass": "standard",
  "kernelspec": {
   "display_name": "Python 3 (ipykernel)",
   "language": "python",
   "name": "python3"
  },
  "language_info": {
   "codemirror_mode": {
    "name": "ipython",
    "version": 3
   },
   "file_extension": ".py",
   "mimetype": "text/x-python",
   "name": "python",
   "nbconvert_exporter": "python",
   "pygments_lexer": "ipython3",
   "version": "3.11.5"
  }
 },
 "nbformat": 4,
 "nbformat_minor": 4
}
